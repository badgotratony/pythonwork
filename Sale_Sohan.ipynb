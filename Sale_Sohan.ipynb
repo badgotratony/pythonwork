{
 "cells": [
  {
   "cell_type": "code",
   "execution_count": 2,
   "id": "bd7c466d",
   "metadata": {},
   "outputs": [],
   "source": [
    "import pandas as pd\n",
    "import numpy as np"
   ]
  },
  {
   "cell_type": "code",
   "execution_count": 3,
   "id": "e8048389",
   "metadata": {},
   "outputs": [],
   "source": []
  },
  {
   "cell_type": "code",
   "execution_count": 139,
   "id": "3a57b6af",
   "metadata": {},
   "outputs": [
    {
     "name": "stdout",
     "output_type": "stream",
     "text": [
      "          Date   Region     Rep    Item  units  unit cover  Revenue\n",
      "0  [4/18/2023]     East   Sohan  Pencil     98        1.99   189.05\n",
      "1  [4/28/2023]  Central   Sohan  Binder     50       19.99   999.50\n",
      "2  [4/19/2023]  Central   Priya  Pencil     36        4.99   179.64\n",
      "3  [4/10/2023]     West  Preeti     Pen     27       19.99   539.73\n",
      "4  [4/20/2023]     East   Sohan  Pencil     56        2.99   167.44\n",
      "5  [4/19/2023]     East  Kreeti     Pen     32        1.99    63.68\n",
      "6  [4/17/2023]  Central   Sohan  Binder     60        4.99   299.40\n",
      "7  [4/19/2023]     East  Kreeti     Pen     32        1.99    63.68\n"
     ]
    }
   ],
   "source": [
    "Data = {\n",
    "    \"Date\": [[\"4/18/2023\"], [\"4/28/2023\"], [\"4/19/2023\"], [\"4/10/2023\"], [\"4/20/2023\"], [\"4/19/2023\"], [\"4/17/2023\"], [\"4/19/2023\"]],\n",
    "    \"Region\": [\"East\", \"Central\", \"Central\", \"West\", \"East\", \"East\", \"Central\", \"East\"],\n",
    "    \"Rep\": [\"Sohan\", \"Sohan\", \"Priya\", \"Preeti\", \"Sohan\", \"Kreeti\", \"Sohan\", \"Kreeti\"],\n",
    "    \"Item\":[\"Pencil\",\"Binder\",\"Pencil\",\"Pen\",\"Pencil\",\"Pen\",\"Binder\",\"Pen\"],\n",
    "    \"units\": [98, 50, 36, 27, 56, 32, 60, 32],\n",
    "    \"unit cover\":[1.99,19.99,4.99,19.99,2.99,1.99,4.99,1.99],\n",
    "    \"Revenue\": [189.05, 999.5, 179.64, 539.73, 167.44, 63.68, 299.4, 63.68]\n",
    "}\n",
    "\n",
    "df = pd.DataFrame(Data)\n",
    "print(df)\n"
   ]
  },
  {
   "cell_type": "code",
   "execution_count": 136,
   "id": "edf906a6",
   "metadata": {},
   "outputs": [],
   "source": [
    "df.to_csv('shoan.csv',index=False)\n"
   ]
  },
  {
   "cell_type": "code",
   "execution_count": 137,
   "id": "1e6db3a8",
   "metadata": {},
   "outputs": [
    {
     "name": "stdout",
     "output_type": "stream",
     "text": [
      "Total unints sold in  East Region : 218.0\n"
     ]
    }
   ],
   "source": [
    "print(\"Total unints sold in  East Region :\",(df[\"units\"].where(df[\"Region\"].eq(\"East\"))).sum())"
   ]
  },
  {
   "cell_type": "code",
   "execution_count": 127,
   "id": "1afa60e5",
   "metadata": {},
   "outputs": [
    {
     "name": "stdout",
     "output_type": "stream",
     "text": [
      "Total Revenue generated: 2502.12\n"
     ]
    }
   ],
   "source": [
    "print(\"Total Revenue generated:\",(df[\"Revenue\"].sum()))"
   ]
  },
  {
   "cell_type": "code",
   "execution_count": 128,
   "id": "71621ee8",
   "metadata": {},
   "outputs": [
    {
     "name": "stdout",
     "output_type": "stream",
     "text": [
      "Total Revenue generated from Binder: 1298.9\n",
      "Total Revenue generated from Pen: 667.09\n",
      "Total Revenue generated from Pencil: 536.13\n"
     ]
    }
   ],
   "source": [
    "print(\"Total Revenue generated from Binder:\",(df[\"Revenue\"].where(df[\"Item\"].eq(\"Binder\"))).sum())\n",
    "print(\"Total Revenue generated from Pen:\",(df[\"Revenue\"].where(df[\"Item\"].eq(\"Pen\"))).sum())\n",
    "print(\"Total Revenue generated from Pencil:\",(df[\"Revenue\"].where(df[\"Item\"].eq(\"Pencil\"))).sum())"
   ]
  },
  {
   "cell_type": "code",
   "execution_count": 129,
   "id": "273d4121",
   "metadata": {},
   "outputs": [
    {
     "name": "stdout",
     "output_type": "stream",
     "text": [
      "Total Revenue generated in Central Region from pencil: 179.64\n",
      "Total Revenue generated in East from pencil: 356.49\n",
      "Total Revenue generated in  West from pencil: 0.0\n"
     ]
    }
   ],
   "source": [
    "print(\"Total Revenue generated in Central Region from pencil:\",(df[\"Revenue\"].where(df[\"Region\"].eq(\"Central\")&df[\"Item\"].eq(\"Pencil\"))).sum())\n",
    "print(\"Total Revenue generated in East from pencil:\",(df[\"Revenue\"].where(df[\"Region\"].eq(\"East\")&df[\"Item\"].eq(\"Pencil\"))).sum())\n",
    "print(\"Total Revenue generated in  West from pencil:\",(df[\"Revenue\"].where(df[\"Region\"].eq(\" West\")&df[\"Item\"].eq(\"Pencil\"))).sum())"
   ]
  },
  {
   "cell_type": "code",
   "execution_count": 130,
   "id": "0e7c12d5",
   "metadata": {},
   "outputs": [
    {
     "name": "stdout",
     "output_type": "stream",
     "text": [
      "Total unints sold by sales representative sohan : 264.0\n"
     ]
    }
   ],
   "source": [
    "print(\"Total unints sold by sales representative sohan :\",(df[\"units\"].where(df[\"Rep\"].eq(\"Sohan\"))).sum())"
   ]
  },
  {
   "cell_type": "code",
   "execution_count": 131,
   "id": "5990a112",
   "metadata": {},
   "outputs": [
    {
     "name": "stdout",
     "output_type": "stream",
     "text": [
      "Total unints sold by sales representative sohan \n",
      " where cost of each item is greater then 4 : 110.0\n"
     ]
    }
   ],
   "source": [
    "print(\"Total unints sold by sales representative sohan \\n where cost of each item is greater then 4 :\",(df[\"units\"].where(df[\"Rep\"].eq(\"Sohan\")&(df[\"unit cover\"]>4.00))).sum())"
   ]
  },
  {
   "cell_type": "code",
   "execution_count": 132,
   "id": "15d92978",
   "metadata": {},
   "outputs": [
    {
     "name": "stdout",
     "output_type": "stream",
     "text": [
      "Total sale by Sohan except pencil:   110.0\n"
     ]
    }
   ],
   "source": [
    "#np.subtract(((df[\"units\"].where(df[\"Rep\"].eq(\"Sohan\"))).sum()),(df[\"units\"].where(df[\"Rep\"].eq(\"Sohan\")&(df[\"Item\"].eq(\"Pencil\")))).sum())\n",
    "print(\"Total sale by Sohan except pencil:  \",(df[\"units\"].where(df[\"Rep\"].eq(\"Sohan\")&(df[\"Item\"]!=\"Pencil\"))).sum())\n"
   ]
  },
  {
   "cell_type": "code",
   "execution_count": 133,
   "id": "302928fc",
   "metadata": {},
   "outputs": [
    {
     "name": "stdout",
     "output_type": "stream",
     "text": [
      "Rep\n",
      "True     4\n",
      "False    4\n",
      "Name: count, dtype: int64\n",
      "\n",
      "Total counts of sohan sales : 4\n"
     ]
    }
   ],
   "source": [
    "print((df[\"Rep\"].eq(\"Sohan\")).value_counts())\n",
    "print(\"\\nTotal counts of sohan sales :\",(df[\"Rep\"].eq(\"Sohan\")).sum())"
   ]
  },
  {
   "cell_type": "code",
   "execution_count": 134,
   "id": "e0cab741",
   "metadata": {},
   "outputs": [
    {
     "name": "stdout",
     "output_type": "stream",
     "text": [
      "Total unints sold by sales representative Preeti: 27.0\n",
      "\n",
      "Total unints sold by sales representative Preeti \n",
      " where cost of each item is greater then 4  : 27.0\n",
      "\n",
      "Total sale by Preeti except pencil:   27.0\n",
      "\n",
      "Total counts of Preeti sales : 1\n"
     ]
    }
   ],
   "source": [
    "###same question for Preeti\n",
    "\n",
    "print(\"Total unints sold by sales representative Preeti:\",(df[\"units\"].where(df[\"Rep\"].eq(\"Preeti\"))).sum())\n",
    "print(\"\\nTotal unints sold by sales representative Preeti \\n where cost of each item is greater then 4  :\",(df[\"units\"].where(df[\"Rep\"].eq(\"Preeti\")&(df[\"unit cover\"]>4.00))).sum(),)\n",
    "print(\"\\nTotal sale by Preeti except pencil:  \",(df[\"units\"].where(df[\"Rep\"].eq(\"Preeti\")&(df[\"Item\"]!=\"Pencil\"))).sum())\n",
    "print(\"\\nTotal counts of Preeti sales :\",(df[\"Rep\"].eq(\"Preeti\")).sum())\n"
   ]
  },
  {
   "cell_type": "code",
   "execution_count": 135,
   "id": "aae70888",
   "metadata": {},
   "outputs": [
    {
     "name": "stdout",
     "output_type": "stream",
     "text": [
      "Total unints sold by sales representative Kreeti : 64.0\n",
      "\n",
      "Total unints sold by sales representative Kreeti  \n",
      " where cost of each item is greater then 4  : 0.0\n",
      "\n",
      "Total sale by Kreeti  except pencil:   64.0\n",
      "\n",
      "Total counts of Kreeti  sales : 2\n"
     ]
    }
   ],
   "source": [
    "###same question for Kreeti \n",
    "\n",
    "print(\"Total unints sold by sales representative Kreeti :\",(df[\"units\"].where(df[\"Rep\"].eq(\"Kreeti\"))).sum())\n",
    "print(\"\\nTotal unints sold by sales representative Kreeti  \\n where cost of each item is greater then 4  :\",(df[\"units\"].where(df[\"Rep\"].eq(\"Kreeti\")&(df[\"unit cover\"]>4.00))).sum(),)\n",
    "print(\"\\nTotal sale by Kreeti  except pencil:  \",(df[\"units\"].where(df[\"Rep\"].eq(\"Kreeti\")&(df[\"Item\"]!=\"Pencil\"))).sum())\n",
    "print(\"\\nTotal counts of Kreeti  sales :\",(df[\"Rep\"].eq(\"Kreeti\")).sum())\n"
   ]
  },
  {
   "cell_type": "code",
   "execution_count": null,
   "id": "a73a7b55",
   "metadata": {},
   "outputs": [],
   "source": []
  },
  {
   "cell_type": "code",
   "execution_count": null,
   "id": "3442ef3e",
   "metadata": {},
   "outputs": [],
   "source": []
  },
  {
   "cell_type": "code",
   "execution_count": null,
   "id": "ba52bd9b",
   "metadata": {},
   "outputs": [],
   "source": []
  },
  {
   "cell_type": "code",
   "execution_count": null,
   "id": "08a28777",
   "metadata": {},
   "outputs": [],
   "source": []
  }
 ],
 "metadata": {
  "kernelspec": {
   "display_name": "Python 3 (ipykernel)",
   "language": "python",
   "name": "python3"
  },
  "language_info": {
   "codemirror_mode": {
    "name": "ipython",
    "version": 3
   },
   "file_extension": ".py",
   "mimetype": "text/x-python",
   "name": "python",
   "nbconvert_exporter": "python",
   "pygments_lexer": "ipython3",
   "version": "3.11.4"
  }
 },
 "nbformat": 4,
 "nbformat_minor": 5
}
