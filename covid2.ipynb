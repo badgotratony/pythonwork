{
 "cells": [
  {
   "cell_type": "code",
   "execution_count": 1,
   "id": "0db1e406",
   "metadata": {},
   "outputs": [],
   "source": [
    "import pandas as pd\n",
    "import numpy as np\n",
    "cd = pd.read_csv(\"C:\\\\Users\\\\hardik\\\\Downloads\\\\covid_toy.csv\")"
   ]
  },
  {
   "cell_type": "code",
   "execution_count": 2,
   "id": "217421ea",
   "metadata": {},
   "outputs": [],
   "source": [
    "cd['Kolkata']= cd['has_covid'].where(cd['city']== 'Kolkata', other=0)"
   ]
  },
  {
   "cell_type": "code",
   "execution_count": 3,
   "id": "d99fda4f",
   "metadata": {
    "scrolled": true
   },
   "outputs": [
    {
     "data": {
      "text/html": [
       "<div>\n",
       "<style scoped>\n",
       "    .dataframe tbody tr th:only-of-type {\n",
       "        vertical-align: middle;\n",
       "    }\n",
       "\n",
       "    .dataframe tbody tr th {\n",
       "        vertical-align: top;\n",
       "    }\n",
       "\n",
       "    .dataframe thead th {\n",
       "        text-align: right;\n",
       "    }\n",
       "</style>\n",
       "<table border=\"1\" class=\"dataframe\">\n",
       "  <thead>\n",
       "    <tr style=\"text-align: right;\">\n",
       "      <th></th>\n",
       "      <th>age</th>\n",
       "      <th>gender</th>\n",
       "      <th>fever</th>\n",
       "      <th>cough</th>\n",
       "      <th>city</th>\n",
       "      <th>has_covid</th>\n",
       "      <th>Kolkata</th>\n",
       "    </tr>\n",
       "  </thead>\n",
       "  <tbody>\n",
       "    <tr>\n",
       "      <th>20</th>\n",
       "      <td>12</td>\n",
       "      <td>Male</td>\n",
       "      <td>98.0</td>\n",
       "      <td>Strong</td>\n",
       "      <td>Bangalore</td>\n",
       "      <td>No</td>\n",
       "      <td>0</td>\n",
       "    </tr>\n",
       "    <tr>\n",
       "      <th>1</th>\n",
       "      <td>27</td>\n",
       "      <td>Male</td>\n",
       "      <td>100.0</td>\n",
       "      <td>Mild</td>\n",
       "      <td>Delhi</td>\n",
       "      <td>Yes</td>\n",
       "      <td>0</td>\n",
       "    </tr>\n",
       "    <tr>\n",
       "      <th>74</th>\n",
       "      <td>34</td>\n",
       "      <td>Female</td>\n",
       "      <td>104.0</td>\n",
       "      <td>Strong</td>\n",
       "      <td>Delhi</td>\n",
       "      <td>No</td>\n",
       "      <td>0</td>\n",
       "    </tr>\n",
       "    <tr>\n",
       "      <th>24</th>\n",
       "      <td>13</td>\n",
       "      <td>Female</td>\n",
       "      <td>100.0</td>\n",
       "      <td>Strong</td>\n",
       "      <td>Kolkata</td>\n",
       "      <td>No</td>\n",
       "      <td>No</td>\n",
       "    </tr>\n",
       "    <tr>\n",
       "      <th>17</th>\n",
       "      <td>40</td>\n",
       "      <td>Female</td>\n",
       "      <td>98.0</td>\n",
       "      <td>Strong</td>\n",
       "      <td>Delhi</td>\n",
       "      <td>No</td>\n",
       "      <td>0</td>\n",
       "    </tr>\n",
       "    <tr>\n",
       "      <th>10</th>\n",
       "      <td>75</td>\n",
       "      <td>Female</td>\n",
       "      <td>NaN</td>\n",
       "      <td>Mild</td>\n",
       "      <td>Delhi</td>\n",
       "      <td>No</td>\n",
       "      <td>0</td>\n",
       "    </tr>\n",
       "    <tr>\n",
       "      <th>80</th>\n",
       "      <td>14</td>\n",
       "      <td>Female</td>\n",
       "      <td>99.0</td>\n",
       "      <td>Mild</td>\n",
       "      <td>Mumbai</td>\n",
       "      <td>Yes</td>\n",
       "      <td>0</td>\n",
       "    </tr>\n",
       "    <tr>\n",
       "      <th>39</th>\n",
       "      <td>50</td>\n",
       "      <td>Female</td>\n",
       "      <td>103.0</td>\n",
       "      <td>Mild</td>\n",
       "      <td>Kolkata</td>\n",
       "      <td>No</td>\n",
       "      <td>No</td>\n",
       "    </tr>\n",
       "    <tr>\n",
       "      <th>58</th>\n",
       "      <td>23</td>\n",
       "      <td>Male</td>\n",
       "      <td>98.0</td>\n",
       "      <td>Strong</td>\n",
       "      <td>Mumbai</td>\n",
       "      <td>Yes</td>\n",
       "      <td>0</td>\n",
       "    </tr>\n",
       "    <tr>\n",
       "      <th>66</th>\n",
       "      <td>51</td>\n",
       "      <td>Male</td>\n",
       "      <td>104.0</td>\n",
       "      <td>Mild</td>\n",
       "      <td>Kolkata</td>\n",
       "      <td>No</td>\n",
       "      <td>No</td>\n",
       "    </tr>\n",
       "  </tbody>\n",
       "</table>\n",
       "</div>"
      ],
      "text/plain": [
       "    age  gender  fever   cough       city has_covid Kolkata\n",
       "20   12    Male   98.0  Strong  Bangalore        No       0\n",
       "1    27    Male  100.0    Mild      Delhi       Yes       0\n",
       "74   34  Female  104.0  Strong      Delhi        No       0\n",
       "24   13  Female  100.0  Strong    Kolkata        No      No\n",
       "17   40  Female   98.0  Strong      Delhi        No       0\n",
       "10   75  Female    NaN    Mild      Delhi        No       0\n",
       "80   14  Female   99.0    Mild     Mumbai       Yes       0\n",
       "39   50  Female  103.0    Mild    Kolkata        No      No\n",
       "58   23    Male   98.0  Strong     Mumbai       Yes       0\n",
       "66   51    Male  104.0    Mild    Kolkata        No      No"
      ]
     },
     "execution_count": 3,
     "metadata": {},
     "output_type": "execute_result"
    }
   ],
   "source": [
    "cd.sample(10)"
   ]
  },
  {
   "cell_type": "code",
   "execution_count": 4,
   "id": "b0ef1ca9",
   "metadata": {},
   "outputs": [],
   "source": [
    "cd[\"Delhi \"] = cd[\"has_covid\"].where(cd[\"city\"]=='Delhi ')"
   ]
  },
  {
   "cell_type": "code",
   "execution_count": 6,
   "id": "bc65fc3b",
   "metadata": {},
   "outputs": [],
   "source": [
    "del cd[\"Delhi \"]"
   ]
  },
  {
   "cell_type": "code",
   "execution_count": 10,
   "id": "b4356eef",
   "metadata": {},
   "outputs": [
    {
     "data": {
      "text/html": [
       "<div>\n",
       "<style scoped>\n",
       "    .dataframe tbody tr th:only-of-type {\n",
       "        vertical-align: middle;\n",
       "    }\n",
       "\n",
       "    .dataframe tbody tr th {\n",
       "        vertical-align: top;\n",
       "    }\n",
       "\n",
       "    .dataframe thead th {\n",
       "        text-align: right;\n",
       "    }\n",
       "</style>\n",
       "<table border=\"1\" class=\"dataframe\">\n",
       "  <thead>\n",
       "    <tr style=\"text-align: right;\">\n",
       "      <th></th>\n",
       "      <th>age</th>\n",
       "      <th>gender</th>\n",
       "      <th>fever</th>\n",
       "      <th>cough</th>\n",
       "      <th>city</th>\n",
       "      <th>has_covid</th>\n",
       "      <th>Kolkata</th>\n",
       "    </tr>\n",
       "  </thead>\n",
       "  <tbody>\n",
       "    <tr>\n",
       "      <th>50</th>\n",
       "      <td>19</td>\n",
       "      <td>Male</td>\n",
       "      <td>101.0</td>\n",
       "      <td>Mild</td>\n",
       "      <td>Delhi</td>\n",
       "      <td>Yes</td>\n",
       "      <td>0</td>\n",
       "    </tr>\n",
       "  </tbody>\n",
       "</table>\n",
       "</div>"
      ],
      "text/plain": [
       "    age gender  fever cough   city has_covid Kolkata\n",
       "50   19   Male  101.0  Mild  Delhi       Yes       0"
      ]
     },
     "execution_count": 10,
     "metadata": {},
     "output_type": "execute_result"
    }
   ],
   "source": [
    "cd.sample()"
   ]
  },
  {
   "cell_type": "code",
   "execution_count": 11,
   "id": "055c5f1c",
   "metadata": {},
   "outputs": [],
   "source": [
    "cd[\"Bangalore\"] = cd[\"has_covid\"].where(cd[\"city\"]=='Bangalore',other = 0)"
   ]
  },
  {
   "cell_type": "code",
   "execution_count": 13,
   "id": "91b103d9",
   "metadata": {},
   "outputs": [
    {
     "data": {
      "text/html": [
       "<div>\n",
       "<style scoped>\n",
       "    .dataframe tbody tr th:only-of-type {\n",
       "        vertical-align: middle;\n",
       "    }\n",
       "\n",
       "    .dataframe tbody tr th {\n",
       "        vertical-align: top;\n",
       "    }\n",
       "\n",
       "    .dataframe thead th {\n",
       "        text-align: right;\n",
       "    }\n",
       "</style>\n",
       "<table border=\"1\" class=\"dataframe\">\n",
       "  <thead>\n",
       "    <tr style=\"text-align: right;\">\n",
       "      <th></th>\n",
       "      <th>age</th>\n",
       "      <th>gender</th>\n",
       "      <th>fever</th>\n",
       "      <th>cough</th>\n",
       "      <th>city</th>\n",
       "      <th>has_covid</th>\n",
       "      <th>Kolkata</th>\n",
       "      <th>Bangalore</th>\n",
       "    </tr>\n",
       "  </thead>\n",
       "  <tbody>\n",
       "    <tr>\n",
       "      <th>40</th>\n",
       "      <td>49</td>\n",
       "      <td>Female</td>\n",
       "      <td>102.0</td>\n",
       "      <td>Mild</td>\n",
       "      <td>Delhi</td>\n",
       "      <td>No</td>\n",
       "      <td>0</td>\n",
       "      <td>0</td>\n",
       "    </tr>\n",
       "    <tr>\n",
       "      <th>93</th>\n",
       "      <td>27</td>\n",
       "      <td>Male</td>\n",
       "      <td>100.0</td>\n",
       "      <td>Mild</td>\n",
       "      <td>Kolkata</td>\n",
       "      <td>Yes</td>\n",
       "      <td>Yes</td>\n",
       "      <td>0</td>\n",
       "    </tr>\n",
       "    <tr>\n",
       "      <th>55</th>\n",
       "      <td>81</td>\n",
       "      <td>Female</td>\n",
       "      <td>101.0</td>\n",
       "      <td>Mild</td>\n",
       "      <td>Mumbai</td>\n",
       "      <td>Yes</td>\n",
       "      <td>0</td>\n",
       "      <td>0</td>\n",
       "    </tr>\n",
       "    <tr>\n",
       "      <th>2</th>\n",
       "      <td>42</td>\n",
       "      <td>Male</td>\n",
       "      <td>101.0</td>\n",
       "      <td>Mild</td>\n",
       "      <td>Delhi</td>\n",
       "      <td>No</td>\n",
       "      <td>0</td>\n",
       "      <td>0</td>\n",
       "    </tr>\n",
       "    <tr>\n",
       "      <th>43</th>\n",
       "      <td>22</td>\n",
       "      <td>Female</td>\n",
       "      <td>99.0</td>\n",
       "      <td>Mild</td>\n",
       "      <td>Bangalore</td>\n",
       "      <td>Yes</td>\n",
       "      <td>0</td>\n",
       "      <td>Yes</td>\n",
       "    </tr>\n",
       "    <tr>\n",
       "      <th>84</th>\n",
       "      <td>69</td>\n",
       "      <td>Female</td>\n",
       "      <td>98.0</td>\n",
       "      <td>Strong</td>\n",
       "      <td>Mumbai</td>\n",
       "      <td>No</td>\n",
       "      <td>0</td>\n",
       "      <td>0</td>\n",
       "    </tr>\n",
       "    <tr>\n",
       "      <th>86</th>\n",
       "      <td>25</td>\n",
       "      <td>Male</td>\n",
       "      <td>104.0</td>\n",
       "      <td>Mild</td>\n",
       "      <td>Bangalore</td>\n",
       "      <td>Yes</td>\n",
       "      <td>0</td>\n",
       "      <td>Yes</td>\n",
       "    </tr>\n",
       "    <tr>\n",
       "      <th>5</th>\n",
       "      <td>84</td>\n",
       "      <td>Female</td>\n",
       "      <td>NaN</td>\n",
       "      <td>Mild</td>\n",
       "      <td>Bangalore</td>\n",
       "      <td>Yes</td>\n",
       "      <td>0</td>\n",
       "      <td>Yes</td>\n",
       "    </tr>\n",
       "    <tr>\n",
       "      <th>89</th>\n",
       "      <td>46</td>\n",
       "      <td>Male</td>\n",
       "      <td>103.0</td>\n",
       "      <td>Strong</td>\n",
       "      <td>Bangalore</td>\n",
       "      <td>No</td>\n",
       "      <td>0</td>\n",
       "      <td>No</td>\n",
       "    </tr>\n",
       "    <tr>\n",
       "      <th>78</th>\n",
       "      <td>11</td>\n",
       "      <td>Male</td>\n",
       "      <td>100.0</td>\n",
       "      <td>Mild</td>\n",
       "      <td>Bangalore</td>\n",
       "      <td>Yes</td>\n",
       "      <td>0</td>\n",
       "      <td>Yes</td>\n",
       "    </tr>\n",
       "  </tbody>\n",
       "</table>\n",
       "</div>"
      ],
      "text/plain": [
       "    age  gender  fever   cough       city has_covid Kolkata Bangalore\n",
       "40   49  Female  102.0    Mild      Delhi        No       0         0\n",
       "93   27    Male  100.0    Mild    Kolkata       Yes     Yes         0\n",
       "55   81  Female  101.0    Mild     Mumbai       Yes       0         0\n",
       "2    42    Male  101.0    Mild      Delhi        No       0         0\n",
       "43   22  Female   99.0    Mild  Bangalore       Yes       0       Yes\n",
       "84   69  Female   98.0  Strong     Mumbai        No       0         0\n",
       "86   25    Male  104.0    Mild  Bangalore       Yes       0       Yes\n",
       "5    84  Female    NaN    Mild  Bangalore       Yes       0       Yes\n",
       "89   46    Male  103.0  Strong  Bangalore        No       0        No\n",
       "78   11    Male  100.0    Mild  Bangalore       Yes       0       Yes"
      ]
     },
     "execution_count": 13,
     "metadata": {},
     "output_type": "execute_result"
    }
   ],
   "source": [
    "cd.sample(10)"
   ]
  },
  {
   "cell_type": "code",
   "execution_count": 16,
   "id": "5c40e215",
   "metadata": {},
   "outputs": [
    {
     "data": {
      "text/plain": [
       "Bangalore\n",
       "0      70\n",
       "No     17\n",
       "Yes    13\n",
       "Name: count, dtype: int64"
      ]
     },
     "execution_count": 16,
     "metadata": {},
     "output_type": "execute_result"
    }
   ],
   "source": [
    "cd[\"Bangalore\"].value_counts()"
   ]
  },
  {
   "cell_type": "code",
   "execution_count": 27,
   "id": "4000f3de",
   "metadata": {},
   "outputs": [],
   "source": [
    "cd[\"MUMBAI\"] = cd[\"has_covid\"].where(cd[\"city\"]==\"Mumbai\",other =0)"
   ]
  },
  {
   "cell_type": "code",
   "execution_count": 20,
   "id": "bb8866f0",
   "metadata": {},
   "outputs": [
    {
     "data": {
      "text/plain": [
       "MUMBAI\n",
       "No     8\n",
       "Yes    8\n",
       "Name: count, dtype: int64"
      ]
     },
     "execution_count": 20,
     "metadata": {},
     "output_type": "execute_result"
    }
   ],
   "source": [
    "cd[\"MUMBAI\"].value_counts()"
   ]
  },
  {
   "cell_type": "code",
   "execution_count": 29,
   "id": "a7e69529",
   "metadata": {},
   "outputs": [
    {
     "data": {
      "text/html": [
       "<div>\n",
       "<style scoped>\n",
       "    .dataframe tbody tr th:only-of-type {\n",
       "        vertical-align: middle;\n",
       "    }\n",
       "\n",
       "    .dataframe tbody tr th {\n",
       "        vertical-align: top;\n",
       "    }\n",
       "\n",
       "    .dataframe thead th {\n",
       "        text-align: right;\n",
       "    }\n",
       "</style>\n",
       "<table border=\"1\" class=\"dataframe\">\n",
       "  <thead>\n",
       "    <tr style=\"text-align: right;\">\n",
       "      <th></th>\n",
       "      <th>age</th>\n",
       "      <th>gender</th>\n",
       "      <th>fever</th>\n",
       "      <th>cough</th>\n",
       "      <th>city</th>\n",
       "      <th>has_covid</th>\n",
       "      <th>Kolkata</th>\n",
       "      <th>Bangalore</th>\n",
       "      <th>MUMBAI</th>\n",
       "      <th>Delhi</th>\n",
       "    </tr>\n",
       "  </thead>\n",
       "  <tbody>\n",
       "    <tr>\n",
       "      <th>27</th>\n",
       "      <td>33</td>\n",
       "      <td>Female</td>\n",
       "      <td>102.0</td>\n",
       "      <td>Strong</td>\n",
       "      <td>Delhi</td>\n",
       "      <td>No</td>\n",
       "      <td>0</td>\n",
       "      <td>0</td>\n",
       "      <td>0</td>\n",
       "      <td>No</td>\n",
       "    </tr>\n",
       "    <tr>\n",
       "      <th>34</th>\n",
       "      <td>74</td>\n",
       "      <td>Male</td>\n",
       "      <td>102.0</td>\n",
       "      <td>Mild</td>\n",
       "      <td>Mumbai</td>\n",
       "      <td>Yes</td>\n",
       "      <td>0</td>\n",
       "      <td>0</td>\n",
       "      <td>Yes</td>\n",
       "      <td>NaN</td>\n",
       "    </tr>\n",
       "    <tr>\n",
       "      <th>89</th>\n",
       "      <td>46</td>\n",
       "      <td>Male</td>\n",
       "      <td>103.0</td>\n",
       "      <td>Strong</td>\n",
       "      <td>Bangalore</td>\n",
       "      <td>No</td>\n",
       "      <td>0</td>\n",
       "      <td>No</td>\n",
       "      <td>0</td>\n",
       "      <td>NaN</td>\n",
       "    </tr>\n",
       "    <tr>\n",
       "      <th>61</th>\n",
       "      <td>81</td>\n",
       "      <td>Female</td>\n",
       "      <td>98.0</td>\n",
       "      <td>Strong</td>\n",
       "      <td>Mumbai</td>\n",
       "      <td>No</td>\n",
       "      <td>0</td>\n",
       "      <td>0</td>\n",
       "      <td>No</td>\n",
       "      <td>NaN</td>\n",
       "    </tr>\n",
       "    <tr>\n",
       "      <th>79</th>\n",
       "      <td>48</td>\n",
       "      <td>Female</td>\n",
       "      <td>103.0</td>\n",
       "      <td>Mild</td>\n",
       "      <td>Kolkata</td>\n",
       "      <td>Yes</td>\n",
       "      <td>Yes</td>\n",
       "      <td>0</td>\n",
       "      <td>0</td>\n",
       "      <td>NaN</td>\n",
       "    </tr>\n",
       "  </tbody>\n",
       "</table>\n",
       "</div>"
      ],
      "text/plain": [
       "    age  gender  fever   cough       city has_covid Kolkata Bangalore MUMBAI  \\\n",
       "27   33  Female  102.0  Strong      Delhi        No       0         0      0   \n",
       "34   74    Male  102.0    Mild     Mumbai       Yes       0         0    Yes   \n",
       "89   46    Male  103.0  Strong  Bangalore        No       0        No      0   \n",
       "61   81  Female   98.0  Strong     Mumbai        No       0         0     No   \n",
       "79   48  Female  103.0    Mild    Kolkata       Yes     Yes         0      0   \n",
       "\n",
       "   Delhi  \n",
       "27    No  \n",
       "34   NaN  \n",
       "89   NaN  \n",
       "61   NaN  \n",
       "79   NaN  "
      ]
     },
     "execution_count": 29,
     "metadata": {},
     "output_type": "execute_result"
    }
   ],
   "source": [
    "cd.sample(5)"
   ]
  },
  {
   "cell_type": "code",
   "execution_count": 31,
   "id": "3d917299",
   "metadata": {},
   "outputs": [],
   "source": [
    "cd[\"Delhi\"] = cd[\"has_covid\"].where(cd[\"city\"]==\"Delhi\",other=0)"
   ]
  },
  {
   "cell_type": "code",
   "execution_count": null,
   "id": "98f7190a",
   "metadata": {},
   "outputs": [],
   "source": []
  },
  {
   "cell_type": "code",
   "execution_count": 58,
   "id": "e1c013f2",
   "metadata": {},
   "outputs": [
    {
     "data": {
      "text/plain": [
       "9.0"
      ]
     },
     "execution_count": 58,
     "metadata": {},
     "output_type": "execute_result"
    }
   ],
   "source": [
    "#delhi_yes_percent = (cd[\"has_covid\"].eq(\"Yes\") & cd[\"city\"].eq(\"Delhi\")).mean() * 100\n"
   ]
  },
  {
   "cell_type": "code",
   "execution_count": 102,
   "id": "371bd5f6",
   "metadata": {},
   "outputs": [
    {
     "name": "stdout",
     "output_type": "stream",
     "text": [
      "Total percent of postive covid  in Delhi    9.0\n",
      "Total percent of Negative covid  in Delhi   13.0\n"
     ]
    }
   ],
   "source": [
    "delhi_Yes_percent = (cd[\"Delhi\"].eq(\"Yes\")).mean() * 100\n",
    "delhi_No_percent = (cd[\"Delhi\"].eq(\"No\")).mean()*100\n",
    "print(\"Total percent of postive covid  in Delhi   \",delhi_Yes_percent)\n",
    "print(\"Total percent of Negative covid  in Delhi  \",delhi_No_percent)"
   ]
  },
  {
   "cell_type": "code",
   "execution_count": 86,
   "id": "cf279012",
   "metadata": {},
   "outputs": [
    {
     "name": "stdout",
     "output_type": "stream",
     "text": [
      "Total percent of postive covid  in MUMBAI ==>   8.0\n",
      "Total percent of Negative covid  in MUMBAI ==>   8.0\n"
     ]
    }
   ],
   "source": [
    "MUMBAI_Yes_percent = (cd[\"MUMBAI\"].eq(\"Yes\")).mean() * 100\n",
    "MUMBAI_No_percent = (cd[\"MUMBAI\"].eq(\"No\")).mean() * 100\n",
    "print(\"Total percent of postive covid  in MUMBAI ==>  \",MUMBAI_Yes_percent)\n",
    "print(\"Total percent of Negative covid  in MUMBAI ==>  \",MUMBAI_No_percent)\n"
   ]
  },
  {
   "cell_type": "code",
   "execution_count": 85,
   "id": "6ed30386",
   "metadata": {},
   "outputs": [
    {
     "name": "stdout",
     "output_type": "stream",
     "text": [
      "Total percent of postive covid  in Bangalore ==>   13.0\n",
      "Total percent of Negative covid  in Bangalore ==>  17.0\n"
     ]
    }
   ],
   "source": [
    "Bangalore_Yes_percent = (cd[\"Bangalore\"].eq(\"Yes\")).mean() * 100\n",
    "Bangalore_No_percent = (cd[\"Bangalore\"].eq(\"No\")).mean() * 100\n",
    "print(\"Total percent of postive covid  in Bangalore ==>  \",Bangalore_Yes_percent)\n",
    "print(\"Total percent of Negative covid  in Bangalore ==> \",Bangalore_No_percent)"
   ]
  },
  {
   "cell_type": "code",
   "execution_count": 84,
   "id": "6fab5d8d",
   "metadata": {},
   "outputs": [
    {
     "name": "stdout",
     "output_type": "stream",
     "text": [
      "Total percent of postive covid  in Kolkata ==>   15.0\n",
      "Total percent of Negative covid  in Kolkata==>   17.0\n"
     ]
    }
   ],
   "source": [
    "Kolkata_Yes_percent = (cd[\"Kolkata\"].eq(\"Yes\")).mean() * 100\n",
    "Kolkata_No_percent = (cd[\"Kolkata\"].eq(\"No\")).mean() * 100\n",
    "print(\"Total percent of postive covid  in Kolkata ==>  \",Kolkata_Yes_percent)\n",
    "print(\"Total percent of Negative covid  in Kolkata ==>  \",Kolkata_No_percent)"
   ]
  },
  {
   "cell_type": "code",
   "execution_count": 92,
   "id": "ca81d121",
   "metadata": {},
   "outputs": [
    {
     "name": "stdout",
     "output_type": "stream",
     "text": [
      "Positve cases  of Mild cough ==>  30.0\n",
      "Negative cases  of Mild cough ==>  32.0\n"
     ]
    }
   ],
   "source": [
    "print(\"Positve cases  of Mild cough ==> \" ,(cd[\"has_covid\"].eq(\"Yes\") &cd[\"cough\"].eq(\"Mild\")).mean()*100)\n",
    "print(\"Negative cases  of Mild cough ==> \" ,(cd[\"has_covid\"].eq(\"No\") &cd[\"cough\"].eq(\"Mild\")).mean()*100)"
   ]
  },
  {
   "cell_type": "code",
   "execution_count": 95,
   "id": "189ebcfd",
   "metadata": {},
   "outputs": [
    {
     "name": "stdout",
     "output_type": "stream",
     "text": [
      "Positve cases  of  Strong cough ==>  0.0\n",
      "Negative cases  of  Strong cough ==>  0.0\n"
     ]
    }
   ],
   "source": [
    "print(\"Positve cases  of  Strong cough ==> \" ,(cd[\"has_covid\"].eq(\"Yes\") &cd[\"cough\"].eq(\" Strong\")).mean()*100)\n",
    "print(\"Negative cases  of  Strong cough ==> \" ,(cd[\"has_covid\"].eq(\"No\") &cd[\"cough\"].eq(\" Strong\")).mean()*100)"
   ]
  },
  {
   "cell_type": "code",
   "execution_count": 110,
   "id": "033438ce",
   "metadata": {},
   "outputs": [
    {
     "name": "stdout",
     "output_type": "stream",
     "text": [
      "Positve cases  of  Female ==>  25.0\n",
      "Negative cases  of  Female ==>  34.0\n"
     ]
    }
   ],
   "source": [
    "print(\"Positve cases  of  Female ==> \" ,(cd[\"has_covid\"].eq(\"Yes\") &cd[\"gender\"].eq(\"Female\")).mean()*100)\n",
    "print(\"Negative cases  of  Female ==> \" ,(cd[\"has_covid\"].eq(\"No\") &cd[\"gender\"].eq(\"Female\")).mean()*100)"
   ]
  },
  {
   "cell_type": "code",
   "execution_count": 113,
   "id": "531e79f4",
   "metadata": {},
   "outputs": [
    {
     "name": "stdout",
     "output_type": "stream",
     "text": [
      "Positve cases  of Male ==>  20.0\n",
      "Negative cases  of  Male ==>  21.0\n"
     ]
    }
   ],
   "source": [
    "print(\"Positve cases  of Male ==> \" ,(cd[\"has_covid\"].eq(\"Yes\") &cd[\"gender\"].eq(\"Male\")).mean()*100)\n",
    "print(\"Negative cases  of  Male ==> \" ,(cd[\"has_covid\"].eq(\"No\") &cd[\"gender\"].eq(\"Male\")).mean()*100)"
   ]
  },
  {
   "cell_type": "code",
   "execution_count": null,
   "id": "0eee3caf",
   "metadata": {},
   "outputs": [],
   "source": []
  }
 ],
 "metadata": {
  "kernelspec": {
   "display_name": "Python 3 (ipykernel)",
   "language": "python",
   "name": "python3"
  },
  "language_info": {
   "codemirror_mode": {
    "name": "ipython",
    "version": 3
   },
   "file_extension": ".py",
   "mimetype": "text/x-python",
   "name": "python",
   "nbconvert_exporter": "python",
   "pygments_lexer": "ipython3",
   "version": "3.11.4"
  }
 },
 "nbformat": 4,
 "nbformat_minor": 5
}
